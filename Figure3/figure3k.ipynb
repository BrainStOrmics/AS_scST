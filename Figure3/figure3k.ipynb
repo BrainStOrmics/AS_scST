{
 "cells": [
  {
   "cell_type": "code",
   "execution_count": 1,
   "id": "6f7914bc-61fc-4a0d-b296-3cab9c4fdff3",
   "metadata": {},
   "outputs": [
    {
     "data": {
      "text/html": [],
      "text/latex": [],
      "text/markdown": [],
      "text/plain": [
       "character(0)"
      ]
     },
     "metadata": {},
     "output_type": "display_data"
    }
   ],
   "source": [
    "rm(list= ls())\n",
    "ls()\n"
   ]
  },
  {
   "cell_type": "markdown",
   "id": "2d3d93f4-c146-428b-85ce-63d79c533472",
   "metadata": {},
   "source": [
    "# modle glycoprotein genes"
   ]
  },
  {
   "cell_type": "code",
   "execution_count": 3,
   "id": "82726d51-1923-4484-b031-e90854bb92ca",
   "metadata": {
    "scrolled": true
   },
   "outputs": [
    {
     "name": "stderr",
     "output_type": "stream",
     "text": [
      "载入需要的程辑包：ggplot2\n",
      "\n",
      "载入需要的程辑包：lattice\n",
      "\n",
      "randomForest 4.7-1.1\n",
      "\n",
      "Type rfNews() to see new features/changes/bug fixes.\n",
      "\n",
      "\n",
      "载入程辑包：‘randomForest’\n",
      "\n",
      "\n",
      "The following object is masked from ‘package:ggplot2’:\n",
      "\n",
      "    margin\n",
      "\n",
      "\n",
      "\n",
      "载入程辑包：‘dplyr’\n",
      "\n",
      "\n",
      "The following object is masked from ‘package:randomForest’:\n",
      "\n",
      "    combine\n",
      "\n",
      "\n",
      "The following objects are masked from ‘package:stats’:\n",
      "\n",
      "    filter, lag\n",
      "\n",
      "\n",
      "The following objects are masked from ‘package:base’:\n",
      "\n",
      "    intersect, setdiff, setequal, union\n",
      "\n",
      "\n",
      "载入需要的程辑包：survival\n",
      "\n",
      "\n",
      "载入程辑包：‘survival’\n",
      "\n",
      "\n",
      "The following object is masked from ‘package:caret’:\n",
      "\n",
      "    cluster\n",
      "\n",
      "\n",
      "载入需要的程辑包：parallel\n",
      "\n",
      "\n",
      "载入程辑包：‘mboost’\n",
      "\n",
      "\n",
      "The following object is masked from ‘package:ggplot2’:\n",
      "\n",
      "    %+%\n",
      "\n",
      "\n",
      "Type 'citation(\"pROC\")' for a citation.\n",
      "\n",
      "\n",
      "载入程辑包：‘pROC’\n",
      "\n",
      "\n",
      "The following objects are masked from ‘package:stats’:\n",
      "\n",
      "    cov, smooth, var\n",
      "\n",
      "\n"
     ]
    }
   ],
   "source": [
    "library(rlang)\n",
    "library(caret)\n",
    "library(randomForest)\n",
    "library(e1071)\n",
    "library(dplyr)\n",
    "library(LogicReg )\n",
    "library(stabs)\n",
    "library(mboost)\n",
    "library(pROC)"
   ]
  },
  {
   "cell_type": "code",
   "execution_count": 3,
   "id": "3223c05d-4a06-47fa-a481-61f67cfa6d99",
   "metadata": {},
   "outputs": [],
   "source": [
    "\n",
    "genes<-c('Thbs1','Ltbp2','Postn',\n",
    "         'Pcolce','Mfap4','Fn1','Fbln1','Igfbp7',\n",
    "         'Mfge8',\n",
    "         'Spp1','Igfbp4','Mgp')\n",
    "setwd(\"./data/modle/\")"
   ]
  },
  {
   "cell_type": "code",
   "execution_count": 5,
   "id": "54adeda5-c87f-4be4-b0f5-9f4f35c5648c",
   "metadata": {},
   "outputs": [],
   "source": [
    "gene_expression <-t( read.table(\"./data/modle/count.matrix.txt\"))\n",
    "label <- read.csv(\"./data/modle/label.csv\")\n"
   ]
  },
  {
   "cell_type": "code",
   "execution_count": 6,
   "id": "9899f3db-e0dc-4065-9616-3fa8b63714fb",
   "metadata": {},
   "outputs": [
    {
     "data": {
      "text/plain": [
       "\n",
       "FALSE  TRUE \n",
       "    5    12 "
      ]
     },
     "metadata": {},
     "output_type": "display_data"
    },
    {
     "data": {
      "text/html": [
       "<style>\n",
       ".list-inline {list-style: none; margin:0; padding: 0}\n",
       ".list-inline>li {display: inline-block}\n",
       ".list-inline>li:not(:last-child)::after {content: \"\\00b7\"; padding: 0 .5ex}\n",
       "</style>\n",
       "<ol class=list-inline><li>4537</li><li>12</li></ol>\n"
      ],
      "text/latex": [
       "\\begin{enumerate*}\n",
       "\\item 4537\n",
       "\\item 12\n",
       "\\end{enumerate*}\n"
      ],
      "text/markdown": [
       "1. 4537\n",
       "2. 12\n",
       "\n",
       "\n"
      ],
      "text/plain": [
       "[1] 4537   12"
      ]
     },
     "metadata": {},
     "output_type": "display_data"
    }
   ],
   "source": [
    "table(colnames(gene_expression) %in% genes)\n",
    "gene_expression<-gene_expression[,colnames(gene_expression) %in% genes]\n",
    "dim(gene_expression)"
   ]
  },
  {
   "cell_type": "code",
   "execution_count": 7,
   "id": "f2ef5c7a-1751-4fb9-a208-36e6c84b292d",
   "metadata": {},
   "outputs": [],
   "source": [
    "# 将标签向量转换为因子类型\n",
    "labels <- as.factor(label$ZsGreen1_type)"
   ]
  },
  {
   "cell_type": "code",
   "execution_count": 9,
   "id": "2f2b443c-84f2-4289-8155-a8240387b2c6",
   "metadata": {
    "scrolled": true
   },
   "outputs": [],
   "source": [
    "set.seed(123)\n",
    "train_indices <- createDataPartition(labels, p = 0.8, list = FALSE) #0.75"
   ]
  },
  {
   "cell_type": "code",
   "execution_count": 10,
   "id": "a81580cc-21a4-4efb-83ff-d991b7943bf6",
   "metadata": {},
   "outputs": [
    {
     "data": {
      "text/html": [
       "<style>\n",
       ".list-inline {list-style: none; margin:0; padding: 0}\n",
       ".list-inline>li {display: inline-block}\n",
       ".list-inline>li:not(:last-child)::after {content: \"\\00b7\"; padding: 0 .5ex}\n",
       "</style>\n",
       "<ol class=list-inline><li>3630</li><li>12</li></ol>\n"
      ],
      "text/latex": [
       "\\begin{enumerate*}\n",
       "\\item 3630\n",
       "\\item 12\n",
       "\\end{enumerate*}\n"
      ],
      "text/markdown": [
       "1. 3630\n",
       "2. 12\n",
       "\n",
       "\n"
      ],
      "text/plain": [
       "[1] 3630   12"
      ]
     },
     "metadata": {},
     "output_type": "display_data"
    },
    {
     "data": {
      "text/html": [
       "<style>\n",
       ".list-inline {list-style: none; margin:0; padding: 0}\n",
       ".list-inline>li {display: inline-block}\n",
       ".list-inline>li:not(:last-child)::after {content: \"\\00b7\"; padding: 0 .5ex}\n",
       "</style>\n",
       "<ol class=list-inline><li>907</li><li>12</li></ol>\n"
      ],
      "text/latex": [
       "\\begin{enumerate*}\n",
       "\\item 907\n",
       "\\item 12\n",
       "\\end{enumerate*}\n"
      ],
      "text/markdown": [
       "1. 907\n",
       "2. 12\n",
       "\n",
       "\n"
      ],
      "text/plain": [
       "[1] 907  12"
      ]
     },
     "metadata": {},
     "output_type": "display_data"
    }
   ],
   "source": [
    "train_data <- gene_expression[train_indices,]\n",
    "train_labels <- as.factor(label[train_indices,]$ZsGreen1_type)\n",
    "test_data <- gene_expression[-train_indices, ]\n",
    "test_labels <- as.factor(label[-train_indices,]$ZsGreen1_type)\n",
    "dim(train_data)\n",
    "dim(test_data)"
   ]
  },
  {
   "cell_type": "code",
   "execution_count": 11,
   "id": "8c71ae9d-61ae-47a9-9c7a-4dcf12e9a608",
   "metadata": {},
   "outputs": [
    {
     "data": {
      "text/html": [
       "<table class=\"dataframe\">\n",
       "<caption>A data.frame: 6 × 12</caption>\n",
       "<thead>\n",
       "\t<tr><th></th><th scope=col>Thbs1</th><th scope=col>Ltbp2</th><th scope=col>Postn</th><th scope=col>Pcolce</th><th scope=col>Mfap4</th><th scope=col>Fn1</th><th scope=col>Fbln1</th><th scope=col>Igfbp7</th><th scope=col>Mfge8</th><th scope=col>Spp1</th><th scope=col>Igfbp4</th><th scope=col>Mgp</th></tr>\n",
       "\t<tr><th></th><th scope=col>&lt;int&gt;</th><th scope=col>&lt;int&gt;</th><th scope=col>&lt;int&gt;</th><th scope=col>&lt;int&gt;</th><th scope=col>&lt;int&gt;</th><th scope=col>&lt;int&gt;</th><th scope=col>&lt;int&gt;</th><th scope=col>&lt;int&gt;</th><th scope=col>&lt;int&gt;</th><th scope=col>&lt;int&gt;</th><th scope=col>&lt;int&gt;</th><th scope=col>&lt;int&gt;</th></tr>\n",
       "</thead>\n",
       "<tbody>\n",
       "\t<tr><th scope=row>GSM4705592_RPS003_ACACCCTTCTAAGCCA</th><td>0</td><td>1</td><td> 1</td><td> 2</td><td> 0</td><td>10</td><td>0</td><td> 71</td><td>14</td><td>0</td><td> 4</td><td>711</td></tr>\n",
       "\t<tr><th scope=row>GSM4705592_RPS003_ACACTGACACAGGCCT</th><td>0</td><td>1</td><td> 2</td><td>20</td><td>25</td><td> 5</td><td>0</td><td>142</td><td> 2</td><td>0</td><td> 9</td><td>398</td></tr>\n",
       "\t<tr><th scope=row>GSM4705592_RPS003_CGTAGCGAGGCATTGG</th><td>1</td><td>0</td><td> 3</td><td> 9</td><td>14</td><td> 0</td><td>6</td><td> 33</td><td> 0</td><td>0</td><td>43</td><td> 13</td></tr>\n",
       "\t<tr><th scope=row>GSM4705592_RPS003_CTAGCCTGTAGCGTGA</th><td>0</td><td>1</td><td> 0</td><td> 4</td><td> 1</td><td> 0</td><td>5</td><td> 18</td><td> 0</td><td>0</td><td> 3</td><td> 32</td></tr>\n",
       "\t<tr><th scope=row>GSM4705592_RPS003_GCAGTTAGTGCAGTAG</th><td>7</td><td>0</td><td> 0</td><td> 3</td><td> 0</td><td> 4</td><td>0</td><td>125</td><td>17</td><td>0</td><td> 6</td><td>135</td></tr>\n",
       "\t<tr><th scope=row>GSM4705592_RPS003_GCTGGGTGTTTGGGCC</th><td>0</td><td>0</td><td>11</td><td> 2</td><td> 8</td><td> 3</td><td>0</td><td>125</td><td> 9</td><td>0</td><td>17</td><td>577</td></tr>\n",
       "</tbody>\n",
       "</table>\n"
      ],
      "text/latex": [
       "A data.frame: 6 × 12\n",
       "\\begin{tabular}{r|llllllllllll}\n",
       "  & Thbs1 & Ltbp2 & Postn & Pcolce & Mfap4 & Fn1 & Fbln1 & Igfbp7 & Mfge8 & Spp1 & Igfbp4 & Mgp\\\\\n",
       "  & <int> & <int> & <int> & <int> & <int> & <int> & <int> & <int> & <int> & <int> & <int> & <int>\\\\\n",
       "\\hline\n",
       "\tGSM4705592\\_RPS003\\_ACACCCTTCTAAGCCA & 0 & 1 &  1 &  2 &  0 & 10 & 0 &  71 & 14 & 0 &  4 & 711\\\\\n",
       "\tGSM4705592\\_RPS003\\_ACACTGACACAGGCCT & 0 & 1 &  2 & 20 & 25 &  5 & 0 & 142 &  2 & 0 &  9 & 398\\\\\n",
       "\tGSM4705592\\_RPS003\\_CGTAGCGAGGCATTGG & 1 & 0 &  3 &  9 & 14 &  0 & 6 &  33 &  0 & 0 & 43 &  13\\\\\n",
       "\tGSM4705592\\_RPS003\\_CTAGCCTGTAGCGTGA & 0 & 1 &  0 &  4 &  1 &  0 & 5 &  18 &  0 & 0 &  3 &  32\\\\\n",
       "\tGSM4705592\\_RPS003\\_GCAGTTAGTGCAGTAG & 7 & 0 &  0 &  3 &  0 &  4 & 0 & 125 & 17 & 0 &  6 & 135\\\\\n",
       "\tGSM4705592\\_RPS003\\_GCTGGGTGTTTGGGCC & 0 & 0 & 11 &  2 &  8 &  3 & 0 & 125 &  9 & 0 & 17 & 577\\\\\n",
       "\\end{tabular}\n"
      ],
      "text/markdown": [
       "\n",
       "A data.frame: 6 × 12\n",
       "\n",
       "| <!--/--> | Thbs1 &lt;int&gt; | Ltbp2 &lt;int&gt; | Postn &lt;int&gt; | Pcolce &lt;int&gt; | Mfap4 &lt;int&gt; | Fn1 &lt;int&gt; | Fbln1 &lt;int&gt; | Igfbp7 &lt;int&gt; | Mfge8 &lt;int&gt; | Spp1 &lt;int&gt; | Igfbp4 &lt;int&gt; | Mgp &lt;int&gt; |\n",
       "|---|---|---|---|---|---|---|---|---|---|---|---|---|\n",
       "| GSM4705592_RPS003_ACACCCTTCTAAGCCA | 0 | 1 |  1 |  2 |  0 | 10 | 0 |  71 | 14 | 0 |  4 | 711 |\n",
       "| GSM4705592_RPS003_ACACTGACACAGGCCT | 0 | 1 |  2 | 20 | 25 |  5 | 0 | 142 |  2 | 0 |  9 | 398 |\n",
       "| GSM4705592_RPS003_CGTAGCGAGGCATTGG | 1 | 0 |  3 |  9 | 14 |  0 | 6 |  33 |  0 | 0 | 43 |  13 |\n",
       "| GSM4705592_RPS003_CTAGCCTGTAGCGTGA | 0 | 1 |  0 |  4 |  1 |  0 | 5 |  18 |  0 | 0 |  3 |  32 |\n",
       "| GSM4705592_RPS003_GCAGTTAGTGCAGTAG | 7 | 0 |  0 |  3 |  0 |  4 | 0 | 125 | 17 | 0 |  6 | 135 |\n",
       "| GSM4705592_RPS003_GCTGGGTGTTTGGGCC | 0 | 0 | 11 |  2 |  8 |  3 | 0 | 125 |  9 | 0 | 17 | 577 |\n",
       "\n"
      ],
      "text/plain": [
       "                                   Thbs1 Ltbp2 Postn Pcolce Mfap4 Fn1 Fbln1\n",
       "GSM4705592_RPS003_ACACCCTTCTAAGCCA 0     1      1     2      0    10  0    \n",
       "GSM4705592_RPS003_ACACTGACACAGGCCT 0     1      2    20     25     5  0    \n",
       "GSM4705592_RPS003_CGTAGCGAGGCATTGG 1     0      3     9     14     0  6    \n",
       "GSM4705592_RPS003_CTAGCCTGTAGCGTGA 0     1      0     4      1     0  5    \n",
       "GSM4705592_RPS003_GCAGTTAGTGCAGTAG 7     0      0     3      0     4  0    \n",
       "GSM4705592_RPS003_GCTGGGTGTTTGGGCC 0     0     11     2      8     3  0    \n",
       "                                   Igfbp7 Mfge8 Spp1 Igfbp4 Mgp\n",
       "GSM4705592_RPS003_ACACCCTTCTAAGCCA  71    14    0     4     711\n",
       "GSM4705592_RPS003_ACACTGACACAGGCCT 142     2    0     9     398\n",
       "GSM4705592_RPS003_CGTAGCGAGGCATTGG  33     0    0    43      13\n",
       "GSM4705592_RPS003_CTAGCCTGTAGCGTGA  18     0    0     3      32\n",
       "GSM4705592_RPS003_GCAGTTAGTGCAGTAG 125    17    0     6     135\n",
       "GSM4705592_RPS003_GCTGGGTGTTTGGGCC 125     9    0    17     577"
      ]
     },
     "metadata": {},
     "output_type": "display_data"
    }
   ],
   "source": [
    "# train_data\n",
    "data<-as.data.frame(train_data)\n",
    "data$type<-train_labels\n",
    "data$type2<-ifelse(data$type==\"ZsGreen1+\",\"Y\",\"N\")\n",
    "data<-data[,c(1:12,14)]\n",
    "# head(data)\n",
    "# test data\n",
    "test_data<-as.data.frame(test_data)\n",
    "head(test_data)\n",
    "\n",
    "test_label<-as.data.frame(test_labels)\n",
    "test_label$type2<-ifelse(test_label$test_labels==\"ZsGreen1+\",\"Y\",\"N\")\n",
    "# head(test_label)"
   ]
  },
  {
   "cell_type": "code",
   "execution_count": 12,
   "id": "83f95514-59f5-4f16-a216-db4f667b083b",
   "metadata": {},
   "outputs": [],
   "source": [
    "\n",
    "trControl <- trainControl(method=\"repeatedcv\", number=10, repeats=3)\n",
    "\n",
    "model <- train(type2 ~ .,data = data, method = \"rf\",trControl = trControl)\n",
    "\n"
   ]
  },
  {
   "cell_type": "code",
   "execution_count": 13,
   "id": "801dbb0c-35e3-4469-aa60-937de72571e1",
   "metadata": {},
   "outputs": [
    {
     "data": {
      "text/plain": [
       "Random Forest \n",
       "\n",
       "3630 samples\n",
       "  12 predictor\n",
       "   2 classes: 'N', 'Y' \n",
       "\n",
       "No pre-processing\n",
       "Resampling: Cross-Validated (10 fold, repeated 3 times) \n",
       "Summary of sample sizes: 3267, 3267, 3266, 3267, 3267, 3268, ... \n",
       "Resampling results across tuning parameters:\n",
       "\n",
       "  mtry  Accuracy   Kappa    \n",
       "   2    0.8321346  0.6595193\n",
       "   7    0.8283780  0.6510369\n",
       "  12    0.8248847  0.6436955\n",
       "\n",
       "Accuracy was used to select the optimal model using the largest value.\n",
       "The final value used for the model was mtry = 2."
      ]
     },
     "metadata": {},
     "output_type": "display_data"
    }
   ],
   "source": [
    "model"
   ]
  },
  {
   "cell_type": "code",
   "execution_count": 14,
   "id": "5f3a2bac-a649-4cb7-b2ab-52755e29e12d",
   "metadata": {},
   "outputs": [
    {
     "data": {
      "text/plain": [
       "Confusion Matrix and Statistics\n",
       "\n",
       "          Reference\n",
       "Prediction   N   Y\n",
       "         N 335  69\n",
       "         Y  66 437\n",
       "                                          \n",
       "               Accuracy : 0.8512          \n",
       "                 95% CI : (0.8263, 0.8737)\n",
       "    No Information Rate : 0.5579          \n",
       "    P-Value [Acc > NIR] : <2e-16          \n",
       "                                          \n",
       "                  Kappa : 0.6985          \n",
       "                                          \n",
       " Mcnemar's Test P-Value : 0.8633          \n",
       "                                          \n",
       "            Sensitivity : 0.8354          \n",
       "            Specificity : 0.8636          \n",
       "         Pos Pred Value : 0.8292          \n",
       "         Neg Pred Value : 0.8688          \n",
       "             Prevalence : 0.4421          \n",
       "         Detection Rate : 0.3693          \n",
       "   Detection Prevalence : 0.4454          \n",
       "      Balanced Accuracy : 0.8495          \n",
       "                                          \n",
       "       'Positive' Class : N               \n",
       "                                          "
      ]
     },
     "metadata": {},
     "output_type": "display_data"
    }
   ],
   "source": [
    "\n",
    "predictions1<- predict(model, newdata = test_data, type = \"prob\")\n",
    "\n",
    "# 评估模型性能\n",
    "predictions2<- predict(model, newdata = test_data)\n",
    "confusionMatrix(predictions2,as.factor(test_label$type2))"
   ]
  },
  {
   "cell_type": "code",
   "execution_count": 18,
   "id": "932339a0-6761-44cb-9ba9-209f5e9e06da",
   "metadata": {},
   "outputs": [
    {
     "name": "stderr",
     "output_type": "stream",
     "text": [
      "Setting levels: control = N, case = Y\n",
      "\n",
      "Setting direction: controls < cases\n",
      "\n"
     ]
    },
    {
     "name": "stdout",
     "output_type": "stream",
     "text": [
      "Area under the curve: 0.9285\n"
     ]
    }
   ],
   "source": [
    "roc_obj <- roc(as.factor(test_label$type2), predictions1[,\"Y\"])\n",
    "auc_value <- auc(roc_obj)\n",
    "print(auc_value)\n",
    "pdf(\"trained_model_gl_rf_roc_GSE155513_ldlr_test.pdf\",width =6,height = 5 )\n",
    "p<-plot(roc_obj, main = paste0(\"rf model gl ROC Curve\",\"\\n\",\"Area under the curve:\",round(auc_value,4)), xlab = \"False Positive Rate\", ylab = \"True Positive Rate\")\n",
    "dev.off()\n",
    "\n",
    "# saveRDS(model, \"./data/modle/trained_model_gl_rf_roc.rds\")"
   ]
  },
  {
   "cell_type": "code",
   "execution_count": null,
   "id": "13825e6e-4b41-473d-b13e-917b4f946c1b",
   "metadata": {},
   "outputs": [],
   "source": [
    "0.9285"
   ]
  },
  {
   "cell_type": "markdown",
   "id": "868db804-8001-4509-964d-e1e752156ebd",
   "metadata": {
    "jp-MarkdownHeadingCollapsed": true
   },
   "source": [
    "# 10X apoe test\n"
   ]
  },
  {
   "cell_type": "code",
   "execution_count": null,
   "id": "90d4ca8a-e4f9-4996-8692-6e23b65722d7",
   "metadata": {},
   "outputs": [],
   "source": []
  },
  {
   "cell_type": "code",
   "execution_count": 19,
   "id": "84878f32-7c8c-4edc-b6da-382a23291377",
   "metadata": {},
   "outputs": [],
   "source": [
    "# 保存模型\n",
    "\n",
    "\n",
    "# 加载模型\n",
    "model <- readRDS(\"./data/modle/trained_model_gl_rf_roc.rds\")\n"
   ]
  },
  {
   "cell_type": "code",
   "execution_count": 23,
   "id": "6e6351f5-f4f0-41c6-b718-9383a29f240b",
   "metadata": {},
   "outputs": [],
   "source": [
    "obj<-get(load(\"./data/modle/Apoe_fib.RData\"))"
   ]
  },
  {
   "cell_type": "code",
   "execution_count": 24,
   "id": "bcd081c1-d6d4-4dc4-9717-22dcef71c0a3",
   "metadata": {},
   "outputs": [],
   "source": [
    "count<-t(as.matrix(obj@assays$RNA@counts))[,genes]\n",
    "label<-obj@meta.data[,c(\"cells\",\"ZsGreen1_type\")]"
   ]
  },
  {
   "cell_type": "code",
   "execution_count": 25,
   "id": "6e201896-dddd-407c-839e-112ca00c5fe2",
   "metadata": {},
   "outputs": [],
   "source": [
    "test_data<-as.data.frame(count)\n",
    "# head(test_data)\n",
    "\n",
    "test_label<-label\n",
    "test_label$type<-ifelse(test_label$ZsGreen1_type==\"ZsGreen1+\",\"Y\",\"N\")\n",
    "# head(test_label)"
   ]
  },
  {
   "cell_type": "code",
   "execution_count": 26,
   "id": "c42e10c0-127e-4bad-ada2-b040c834e33d",
   "metadata": {},
   "outputs": [
    {
     "data": {
      "text/plain": [
       "Confusion Matrix and Statistics\n",
       "\n",
       "          Reference\n",
       "Prediction    N    Y\n",
       "         N 1143  146\n",
       "         Y  125  600\n",
       "                                          \n",
       "               Accuracy : 0.8654          \n",
       "                 95% CI : (0.8498, 0.8801)\n",
       "    No Information Rate : 0.6296          \n",
       "    P-Value [Acc > NIR] : <2e-16          \n",
       "                                          \n",
       "                  Kappa : 0.7098          \n",
       "                                          \n",
       " Mcnemar's Test P-Value : 0.2244          \n",
       "                                          \n",
       "            Sensitivity : 0.9014          \n",
       "            Specificity : 0.8043          \n",
       "         Pos Pred Value : 0.8867          \n",
       "         Neg Pred Value : 0.8276          \n",
       "             Prevalence : 0.6296          \n",
       "         Detection Rate : 0.5675          \n",
       "   Detection Prevalence : 0.6400          \n",
       "      Balanced Accuracy : 0.8529          \n",
       "                                          \n",
       "       'Positive' Class : N               \n",
       "                                          "
      ]
     },
     "metadata": {},
     "output_type": "display_data"
    }
   ],
   "source": [
    "\n",
    "predictions1<- predict(model, newdata = test_data, type = \"prob\")\n",
    "\n",
    "# 评估模型性能\n",
    "predictions2<- predict(model, newdata = test_data)\n",
    "confusionMatrix(predictions2,as.factor(test_label$type))"
   ]
  },
  {
   "cell_type": "code",
   "execution_count": 27,
   "id": "23c1391a-4657-4474-9015-416e1c34dea7",
   "metadata": {},
   "outputs": [
    {
     "name": "stderr",
     "output_type": "stream",
     "text": [
      "Setting levels: control = N, case = Y\n",
      "\n",
      "Setting direction: controls < cases\n",
      "\n"
     ]
    },
    {
     "name": "stdout",
     "output_type": "stream",
     "text": [
      "Area under the curve: 0.9408\n"
     ]
    }
   ],
   "source": [
    "\n",
    "roc_obj <- roc(as.factor(test_label$type), predictions1[,\"Y\"])\n",
    "auc_value <- auc(roc_obj)\n",
    "print(auc_value)\n",
    "# pdf(\"trained_model_gl_rf_roc_GSE155513_apoe_test.pdf\",width =6,height = 5 )\n",
    "# p<-plot(roc_obj, main = paste0(\"rf model gl ROC Curve\",\"\\n\",\"Area under the curve:\",round(auc_value,4)), xlab = \"False Positive Rate\", ylab = \"True Positive Rate\")\n",
    "# dev.off()\n",
    "\n",
    "# saveRDS(model, \"trained_model_gl_rf_roc.rds\")"
   ]
  },
  {
   "cell_type": "markdown",
   "id": "1de02443-5b76-45d8-bf6b-6f5dd16eeaf0",
   "metadata": {},
   "source": [
    "# 10X human test"
   ]
  },
  {
   "cell_type": "code",
   "execution_count": 3,
   "id": "d09b39ea-f200-4b28-8b70-ed898fa62f59",
   "metadata": {
    "scrolled": true
   },
   "outputs": [
    {
     "name": "stderr",
     "output_type": "stream",
     "text": [
      "载入需要的程辑包：SeuratObject\n",
      "\n",
      "载入需要的程辑包：sp\n",
      "\n",
      "\n",
      "载入程辑包：‘SeuratObject’\n",
      "\n",
      "\n",
      "The following objects are masked from ‘package:base’:\n",
      "\n",
      "    intersect, t\n",
      "\n",
      "\n",
      "── \u001b[1mAttaching core tidyverse packages\u001b[22m ──────────────────────── tidyverse 2.0.0 ──\n",
      "\u001b[32m✔\u001b[39m \u001b[34mdplyr    \u001b[39m 1.1.4     \u001b[32m✔\u001b[39m \u001b[34mreadr    \u001b[39m 2.1.5\n",
      "\u001b[32m✔\u001b[39m \u001b[34mforcats  \u001b[39m 1.0.0     \u001b[32m✔\u001b[39m \u001b[34mstringr  \u001b[39m 1.5.1\n",
      "\u001b[32m✔\u001b[39m \u001b[34mggplot2  \u001b[39m 3.5.1     \u001b[32m✔\u001b[39m \u001b[34mtibble   \u001b[39m 3.2.1\n",
      "\u001b[32m✔\u001b[39m \u001b[34mlubridate\u001b[39m 1.9.3     \u001b[32m✔\u001b[39m \u001b[34mtidyr    \u001b[39m 1.3.1\n",
      "\u001b[32m✔\u001b[39m \u001b[34mpurrr    \u001b[39m 1.0.2     \n",
      "── \u001b[1mConflicts\u001b[22m ────────────────────────────────────────── tidyverse_conflicts() ──\n",
      "\u001b[31m✖\u001b[39m \u001b[34mtidyr\u001b[39m::\u001b[32mcomplete()\u001b[39m  masks \u001b[34mRCurl\u001b[39m::complete()\n",
      "\u001b[31m✖\u001b[39m \u001b[34mdplyr\u001b[39m::\u001b[32mfilter()\u001b[39m    masks \u001b[34mstats\u001b[39m::filter()\n",
      "\u001b[31m✖\u001b[39m \u001b[34mdplyr\u001b[39m::\u001b[32mlag()\u001b[39m       masks \u001b[34mstats\u001b[39m::lag()\n",
      "\u001b[31m✖\u001b[39m \u001b[34mlubridate\u001b[39m::\u001b[32mstamp()\u001b[39m masks \u001b[34mcowplot\u001b[39m::stamp()\n",
      "\u001b[36mℹ\u001b[39m Use the conflicted package (\u001b[3m\u001b[34m<http://conflicted.r-lib.org/>\u001b[39m\u001b[23m) to force all conflicts to become errors\n",
      "\n",
      "载入程辑包：‘Matrix’\n",
      "\n",
      "\n",
      "The following objects are masked from ‘package:tidyr’:\n",
      "\n",
      "    expand, pack, unpack\n",
      "\n",
      "\n",
      "\n",
      "载入程辑包：‘scales’\n",
      "\n",
      "\n",
      "The following object is masked from ‘package:purrr’:\n",
      "\n",
      "    discard\n",
      "\n",
      "\n",
      "The following object is masked from ‘package:readr’:\n",
      "\n",
      "    col_factor\n",
      "\n",
      "\n",
      "\n",
      "载入程辑包：‘patchwork’\n",
      "\n",
      "\n",
      "The following object is masked from ‘package:cowplot’:\n",
      "\n",
      "    align_plots\n",
      "\n",
      "\n",
      "\n",
      "载入程辑包：‘rlang’\n",
      "\n",
      "\n",
      "The following objects are masked from ‘package:purrr’:\n",
      "\n",
      "    %@%, flatten, flatten_chr, flatten_dbl, flatten_int, flatten_lgl,\n",
      "    flatten_raw, invoke, splice\n",
      "\n",
      "\n",
      "载入需要的程辑包：lattice\n",
      "\n",
      "\n",
      "载入程辑包：‘caret’\n",
      "\n",
      "\n",
      "The following object is masked from ‘package:purrr’:\n",
      "\n",
      "    lift\n",
      "\n",
      "\n",
      "randomForest 4.7-1.1\n",
      "\n",
      "Type rfNews() to see new features/changes/bug fixes.\n",
      "\n",
      "\n",
      "载入程辑包：‘randomForest’\n",
      "\n",
      "\n",
      "The following object is masked from ‘package:dplyr’:\n",
      "\n",
      "    combine\n",
      "\n",
      "\n",
      "The following object is masked from ‘package:ggplot2’:\n",
      "\n",
      "    margin\n",
      "\n",
      "\n",
      "载入需要的程辑包：survival\n",
      "\n",
      "\n",
      "载入程辑包：‘survival’\n",
      "\n",
      "\n",
      "The following object is masked from ‘package:caret’:\n",
      "\n",
      "    cluster\n",
      "\n",
      "\n",
      "载入需要的程辑包：parallel\n",
      "\n",
      "\n",
      "载入程辑包：‘mboost’\n",
      "\n",
      "\n",
      "The following object is masked from ‘package:tidyr’:\n",
      "\n",
      "    extract\n",
      "\n",
      "\n",
      "The following object is masked from ‘package:ggplot2’:\n",
      "\n",
      "    %+%\n",
      "\n",
      "\n",
      "Type 'citation(\"pROC\")' for a citation.\n",
      "\n",
      "\n",
      "载入程辑包：‘pROC’\n",
      "\n",
      "\n",
      "The following objects are masked from ‘package:stats’:\n",
      "\n",
      "    cov, smooth, var\n",
      "\n",
      "\n"
     ]
    }
   ],
   "source": [
    "library(Seurat)\n",
    "library(RCurl)\n",
    "library(cowplot)\n",
    "\n",
    "library(tidyverse)\n",
    "library(ggplot2)\n",
    "library(Matrix)\n",
    "library(scales)\n",
    "\n",
    "\n",
    "library(dplyr)\n",
    "\n",
    "library(patchwork)\n",
    "\n",
    "library(rlang)\n",
    "library(caret,lib.loc = \"/DATA/User/hemingmin/packages/R/x86_64-conda-linux-gnu-library/4.1\")\n",
    "\n",
    "library(randomForest,lib.loc = \"/DATA/User/hemingmin/packages/R/x86_64-conda-linux-gnu-library/4.1\")\n",
    "\n",
    "library(e1071)\n",
    "library(dplyr)\n",
    "library(LogicReg,lib.loc =\"/DATA/User/hemingmin/packages/R/x86_64-conda-linux-gnu-library/4.1\" )\n",
    "library(stabs,lib.loc=\"/DATA/User/hemingmin/packages/R/x86_64-conda-linux-gnu-library/4.1\" )\n",
    "library(mboost,lib.loc=\"/DATA/User/hemingmin/packages/R/x86_64-conda-linux-gnu-library/4.1\")\n",
    "library(pROC,lib.loc=\"/DATA/User/hemingmin/packages/R/x86_64-conda-linux-gnu-library/4.1\")"
   ]
  },
  {
   "cell_type": "code",
   "execution_count": 4,
   "id": "45a382c0-aece-493c-9074-faf30c073970",
   "metadata": {},
   "outputs": [],
   "source": [
    "model <- readRDS(\"./data/modle/trained_model_gl_rf_roc.rds\")"
   ]
  },
  {
   "cell_type": "code",
   "execution_count": 5,
   "id": "5ad8475b-230d-4f66-b6fa-05406b9ba758",
   "metadata": {},
   "outputs": [],
   "source": [
    "obj<-readRDS(file = \"./data/modle/human_anno.rds\")"
   ]
  },
  {
   "cell_type": "code",
   "execution_count": 7,
   "id": "20dfd143-546d-4e22-9c53-72f08266dc6e",
   "metadata": {},
   "outputs": [],
   "source": [
    "fib<-subset(obj,idents=c(\"Fib\"))\n",
    "# fib\n",
    "Idents(fib)<-fib$type\n"
   ]
  },
  {
   "cell_type": "code",
   "execution_count": 8,
   "id": "770f79db-5c58-4ce1-a3f0-a0429decbaa7",
   "metadata": {},
   "outputs": [
    {
     "data": {
      "text/plain": [
       "\n",
       "  AC   PA \n",
       "  49 1079 "
      ]
     },
     "metadata": {},
     "output_type": "display_data"
    }
   ],
   "source": [
    "table(fib$type)"
   ]
  },
  {
   "cell_type": "code",
   "execution_count": 9,
   "id": "a5a2f9eb-2bcb-4900-8bf0-199f6b21df59",
   "metadata": {},
   "outputs": [
    {
     "name": "stderr",
     "output_type": "stream",
     "text": [
      "Centering and scaling data matrix\n",
      "\n"
     ]
    }
   ],
   "source": [
    "# 重新scale\n",
    "DefaultAssay(fib)<-\"RNA\"\n",
    "obj<-NormalizeData(fib)\n",
    "all.genes<-rownames(obj)\n",
    "obj<-ScaleData(obj,features=all.genes)"
   ]
  },
  {
   "cell_type": "code",
   "execution_count": 11,
   "id": "9dcb9427-7bb8-43c0-bbcd-63b8015bb919",
   "metadata": {},
   "outputs": [],
   "source": [
    "genes<-c('THBS1','LTBP2','POSTN',\n",
    "         'PCOLCE','MFAP4','FN1','FBLN1','IGFBP7',\n",
    "         'MFGE8',\n",
    "         'SPP1','IGFBP4','MGP')\n",
    "\n",
    "genes_m<-c('Thbs1','Ltbp2','Postn',\n",
    "         'Pcolce','Mfap4','Fn1','Fbln1','Igfbp7',\n",
    "         'Mfge8',\n",
    "         'Spp1','Igfbp4','Mgp')\n",
    "\n",
    "\n"
   ]
  },
  {
   "cell_type": "code",
   "execution_count": 12,
   "id": "bf880068-e220-4b90-b8fc-4a12ee45a13c",
   "metadata": {},
   "outputs": [
    {
     "data": {
      "text/html": [
       "<style>\n",
       ".list-inline {list-style: none; margin:0; padding: 0}\n",
       ".list-inline>li {display: inline-block}\n",
       ".list-inline>li:not(:last-child)::after {content: \"\\00b7\"; padding: 0 .5ex}\n",
       "</style>\n",
       "<ol class=list-inline><li>1128</li><li>12</li></ol>\n"
      ],
      "text/latex": [
       "\\begin{enumerate*}\n",
       "\\item 1128\n",
       "\\item 12\n",
       "\\end{enumerate*}\n"
      ],
      "text/markdown": [
       "1. 1128\n",
       "2. 12\n",
       "\n",
       "\n"
      ],
      "text/plain": [
       "[1] 1128   12"
      ]
     },
     "metadata": {},
     "output_type": "display_data"
    }
   ],
   "source": [
    "counts<-t(as.matrix(obj@assays$RNA@counts[genes,]))\n",
    "dim(counts)"
   ]
  },
  {
   "cell_type": "code",
   "execution_count": 1,
   "id": "7274327b-868c-4971-8045-9335bc9fd546",
   "metadata": {},
   "outputs": [],
   "source": [
    "# table(colnames(counts) %in% genes)"
   ]
  },
  {
   "cell_type": "code",
   "execution_count": 14,
   "id": "726191b7-5d26-4474-8830-b3cdb7928648",
   "metadata": {},
   "outputs": [],
   "source": [
    "colnames(counts)[colnames(counts) == 'THBS1'] <- 'Thbs1'\n",
    "colnames(counts)[colnames(counts) == 'LTBP2'] <- 'Ltbp2'\n",
    "colnames(counts)[colnames(counts) == 'POSTN'] <- 'Postn'\n",
    "colnames(counts)[colnames(counts) == 'PCOLCE'] <- 'Pcolce'\n",
    "colnames(counts)[colnames(counts) == 'MFAP4'] <- 'Mfap4'\n",
    "colnames(counts)[colnames(counts) == 'FN1'] <- 'Fn1'\n",
    "colnames(counts)[colnames(counts) == 'FBLN1'] <- 'Fbln1'\n",
    "colnames(counts)[colnames(counts) == 'IGFBP7'] <- 'Igfbp7'\n",
    "colnames(counts)[colnames(counts) == 'MFGE8'] <- 'Mfge8'\n",
    "colnames(counts)[colnames(counts) == 'SPP1'] <- 'Spp1'\n",
    "colnames(counts)[colnames(counts) == 'IGFBP4'] <- 'Igfbp4'\n",
    "colnames(counts)[colnames(counts) == 'MGP'] <- 'Mgp'"
   ]
  },
  {
   "cell_type": "code",
   "execution_count": 2,
   "id": "9642e40a-8d52-406c-a40d-84edcd01452a",
   "metadata": {},
   "outputs": [],
   "source": [
    "# table(colnames(counts) %in% genes_m)"
   ]
  },
  {
   "cell_type": "code",
   "execution_count": 16,
   "id": "6eabef68-80ff-4a05-a839-48ed5125d2d3",
   "metadata": {},
   "outputs": [],
   "source": [
    "label<-obj@meta.data[,c(\"cells\",\"type\")]"
   ]
  },
  {
   "cell_type": "code",
   "execution_count": 17,
   "id": "0c314223-cce7-49c6-80c8-c3628fda10e3",
   "metadata": {},
   "outputs": [],
   "source": [
    "test_data<-as.data.frame(counts)\n",
    "# head(test_data)\n",
    "\n",
    "test_label<-label\n",
    "test_label$type<-ifelse(test_label$type==\"AC\",\"Y\",\"N\")\n",
    "# head(test_label)"
   ]
  },
  {
   "cell_type": "code",
   "execution_count": 18,
   "id": "f342f0b1-4902-410d-bad8-c63633734f02",
   "metadata": {},
   "outputs": [
    {
     "data": {
      "text/plain": [
       "Confusion Matrix and Statistics\n",
       "\n",
       "          Reference\n",
       "Prediction   N   Y\n",
       "         N 851  18\n",
       "         Y 228  31\n",
       "                                          \n",
       "               Accuracy : 0.7819          \n",
       "                 95% CI : (0.7567, 0.8057)\n",
       "    No Information Rate : 0.9566          \n",
       "    P-Value [Acc > NIR] : 1               \n",
       "                                          \n",
       "                  Kappa : 0.1383          \n",
       "                                          \n",
       " Mcnemar's Test P-Value : <2e-16          \n",
       "                                          \n",
       "            Sensitivity : 0.7887          \n",
       "            Specificity : 0.6327          \n",
       "         Pos Pred Value : 0.9793          \n",
       "         Neg Pred Value : 0.1197          \n",
       "             Prevalence : 0.9566          \n",
       "         Detection Rate : 0.7544          \n",
       "   Detection Prevalence : 0.7704          \n",
       "      Balanced Accuracy : 0.7107          \n",
       "                                          \n",
       "       'Positive' Class : N               \n",
       "                                          "
      ]
     },
     "metadata": {},
     "output_type": "display_data"
    }
   ],
   "source": [
    "\n",
    "predictions1<- predict(model, newdata = test_data, type = \"prob\")\n",
    "\n",
    "# 评估模型性能\n",
    "predictions2<- predict(model, newdata = test_data)\n",
    "confusionMatrix(predictions2,as.factor(test_label$type))"
   ]
  },
  {
   "cell_type": "code",
   "execution_count": 19,
   "id": "af02f4ff-8f86-4c69-8687-3502451d7f5d",
   "metadata": {},
   "outputs": [
    {
     "name": "stderr",
     "output_type": "stream",
     "text": [
      "Setting levels: control = N, case = Y\n",
      "\n",
      "Setting direction: controls < cases\n",
      "\n"
     ]
    },
    {
     "name": "stdout",
     "output_type": "stream",
     "text": [
      "Area under the curve: 0.8028\n"
     ]
    },
    {
     "data": {
      "text/html": [
       "<strong>png:</strong> 2"
      ],
      "text/latex": [
       "\\textbf{png:} 2"
      ],
      "text/markdown": [
       "**png:** 2"
      ],
      "text/plain": [
       "png \n",
       "  2 "
      ]
     },
     "metadata": {},
     "output_type": "display_data"
    }
   ],
   "source": [
    "\n",
    "roc_obj <- roc(as.factor(test_label$type), predictions1[,\"Y\"])\n",
    "auc_value <- auc(roc_obj)\n",
    "print(auc_value)\n",
    "pdf(\"trained_model_gl_rf_roc_GSE159677_human_test_fib.pdf\",width =6,height = 5 )\n",
    "p<-plot(roc_obj, main = paste0(\"rf model gl ROC Curve\",\"\\n\",\"Area under the curve:\",round(auc_value,4)), xlab = \"False Positive Rate\", ylab = \"True Positive Rate\")\n",
    "dev.off()\n",
    "\n"
   ]
  },
  {
   "cell_type": "code",
   "execution_count": null,
   "id": "b704ebdd-edc0-405d-a5e0-687ad75fd485",
   "metadata": {},
   "outputs": [],
   "source": []
  }
 ],
 "metadata": {
  "kernelspec": {
   "display_name": "r_clusterpro",
   "language": "R",
   "name": "ir"
  },
  "language_info": {
   "codemirror_mode": "r",
   "file_extension": ".r",
   "mimetype": "text/x-r-source",
   "name": "R",
   "pygments_lexer": "r",
   "version": "4.2.3"
  }
 },
 "nbformat": 4,
 "nbformat_minor": 5
}
